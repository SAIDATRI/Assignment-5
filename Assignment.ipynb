{
 "cells": [
  {
   "cell_type": "markdown",
   "id": "9e448ebc",
   "metadata": {},
   "source": [
    "# Installing Libraries"
   ]
  },
  {
   "cell_type": "code",
   "execution_count": 1,
   "id": "a9c8b897",
   "metadata": {},
   "outputs": [
    {
     "name": "stdout",
     "output_type": "stream",
     "text": [
      "Requirement already satisfied: bs4 in c:\\users\\analy\\saidatri\\lib\\site-packages (0.0.1)\n",
      "Requirement already satisfied: beautifulsoup4 in c:\\users\\analy\\saidatri\\lib\\site-packages (from bs4) (4.11.1)\n",
      "Requirement already satisfied: soupsieve>1.2 in c:\\users\\analy\\saidatri\\lib\\site-packages (from beautifulsoup4->bs4) (2.3.1)\n",
      "Note: you may need to restart the kernel to use updated packages.\n"
     ]
    }
   ],
   "source": [
    "pip install bs4"
   ]
  },
  {
   "cell_type": "code",
   "execution_count": 2,
   "id": "36512ad3",
   "metadata": {},
   "outputs": [
    {
     "name": "stdout",
     "output_type": "stream",
     "text": [
      "Requirement already satisfied: requests in c:\\users\\analy\\saidatri\\lib\\site-packages (2.28.1)\n",
      "Requirement already satisfied: idna<4,>=2.5 in c:\\users\\analy\\saidatri\\lib\\site-packages (from requests) (3.3)\n",
      "Requirement already satisfied: urllib3<1.27,>=1.21.1 in c:\\users\\analy\\saidatri\\lib\\site-packages (from requests) (1.26.11)\n",
      "Requirement already satisfied: charset-normalizer<3,>=2 in c:\\users\\analy\\saidatri\\lib\\site-packages (from requests) (2.0.4)\n",
      "Requirement already satisfied: certifi>=2017.4.17 in c:\\users\\analy\\saidatri\\lib\\site-packages (from requests) (2022.9.14)\n",
      "Note: you may need to restart the kernel to use updated packages.\n"
     ]
    }
   ],
   "source": [
    "pip install requests"
   ]
  },
  {
   "cell_type": "markdown",
   "id": "ce2e6854",
   "metadata": {},
   "source": [
    "# Importing Libraries"
   ]
  },
  {
   "cell_type": "code",
   "execution_count": 3,
   "id": "d2cd0b5a",
   "metadata": {},
   "outputs": [],
   "source": [
    "import pandas as pd\n",
    "import numpy as np\n",
    "import requests\n",
    "from bs4 import BeautifulSoup"
   ]
  },
  {
   "cell_type": "code",
   "execution_count": 4,
   "id": "95f09fe4",
   "metadata": {},
   "outputs": [],
   "source": [
    "url='https://www.worldometers.info/coronavirus/#countries'"
   ]
  },
  {
   "cell_type": "code",
   "execution_count": 5,
   "id": "88c26bdc",
   "metadata": {},
   "outputs": [],
   "source": [
    "response = requests.get(url).text"
   ]
  },
  {
   "cell_type": "code",
   "execution_count": 6,
   "id": "ad137343",
   "metadata": {},
   "outputs": [],
   "source": [
    "soup = BeautifulSoup(response,'html.parser')"
   ]
  },
  {
   "cell_type": "markdown",
   "id": "667023c0",
   "metadata": {},
   "source": [
    "# Web Scrapping of the data\n"
   ]
  },
  {
   "cell_type": "code",
   "execution_count": 7,
   "id": "a2c8032c",
   "metadata": {},
   "outputs": [],
   "source": [
    "table = soup.find('tbody')"
   ]
  },
  {
   "cell_type": "code",
   "execution_count": 8,
   "id": "3d76ec08",
   "metadata": {},
   "outputs": [],
   "source": [
    "table_data = []\n",
    "for row in table.findAll('tr'):\n",
    "    row_data = []\n",
    "    for cell in row.findAll('td'):\n",
    "        row_data.append(cell.text)\n",
    "    if(len(row_data) > 0):\n",
    "        data = {\"Country\": row_data[1],\n",
    "                     \"TotalCases\": row_data[2],\n",
    "                     \"NewCases\": row_data[3],\n",
    "                     \"TotalDeaths\": row_data[4],\n",
    "                     \"NewDeaths\": row_data[5],\n",
    "                     \"TotalRecovered\": row_data[6],\n",
    "                     \"ActiveCases\": row_data[7],\n",
    "                     \"CriticalCases\": row_data[8],\n",
    "                     \"Totcase1M\": row_data[9],\n",
    "                     \"Totdeath1M\": row_data[10],\n",
    "                     \"TotalTests\": row_data[11],\n",
    "                     \"Tottest1M\": row_data[12],\n",
    "        }\n",
    "        table_data.append(data)"
   ]
  },
  {
   "cell_type": "code",
   "execution_count": 9,
   "id": "fd5460d0",
   "metadata": {},
   "outputs": [],
   "source": [
    "df = pd.DataFrame(table_data)"
   ]
  },
  {
   "cell_type": "markdown",
   "id": "91626151",
   "metadata": {},
   "source": [
    "# Checking the data"
   ]
  },
  {
   "cell_type": "code",
   "execution_count": 10,
   "id": "2d2db2d8",
   "metadata": {},
   "outputs": [
    {
     "data": {
      "text/html": [
       "<div>\n",
       "<style scoped>\n",
       "    .dataframe tbody tr th:only-of-type {\n",
       "        vertical-align: middle;\n",
       "    }\n",
       "\n",
       "    .dataframe tbody tr th {\n",
       "        vertical-align: top;\n",
       "    }\n",
       "\n",
       "    .dataframe thead th {\n",
       "        text-align: right;\n",
       "    }\n",
       "</style>\n",
       "<table border=\"1\" class=\"dataframe\">\n",
       "  <thead>\n",
       "    <tr style=\"text-align: right;\">\n",
       "      <th></th>\n",
       "      <th>Country</th>\n",
       "      <th>TotalCases</th>\n",
       "      <th>NewCases</th>\n",
       "      <th>TotalDeaths</th>\n",
       "      <th>NewDeaths</th>\n",
       "      <th>TotalRecovered</th>\n",
       "      <th>ActiveCases</th>\n",
       "      <th>CriticalCases</th>\n",
       "      <th>Totcase1M</th>\n",
       "      <th>Totdeath1M</th>\n",
       "      <th>TotalTests</th>\n",
       "      <th>Tottest1M</th>\n",
       "    </tr>\n",
       "  </thead>\n",
       "  <tbody>\n",
       "    <tr>\n",
       "      <th>0</th>\n",
       "      <td>\\nNorth America\\n</td>\n",
       "      <td>126,353,091</td>\n",
       "      <td>+494</td>\n",
       "      <td>1,630,731</td>\n",
       "      <td>+4</td>\n",
       "      <td>122,171,699</td>\n",
       "      <td>+1,005</td>\n",
       "      <td>2,550,661</td>\n",
       "      <td>6,310</td>\n",
       "      <td></td>\n",
       "      <td></td>\n",
       "      <td></td>\n",
       "    </tr>\n",
       "    <tr>\n",
       "      <th>1</th>\n",
       "      <td>\\nAsia\\n</td>\n",
       "      <td>217,021,377</td>\n",
       "      <td>+19,993</td>\n",
       "      <td>1,545,581</td>\n",
       "      <td>+8</td>\n",
       "      <td>200,767,110</td>\n",
       "      <td>+5,003</td>\n",
       "      <td>14,708,686</td>\n",
       "      <td>15,651</td>\n",
       "      <td></td>\n",
       "      <td></td>\n",
       "      <td></td>\n",
       "    </tr>\n",
       "    <tr>\n",
       "      <th>2</th>\n",
       "      <td>\\nEurope\\n</td>\n",
       "      <td>249,093,309</td>\n",
       "      <td></td>\n",
       "      <td>2,056,057</td>\n",
       "      <td></td>\n",
       "      <td>245,004,734</td>\n",
       "      <td>+11,320</td>\n",
       "      <td>2,032,518</td>\n",
       "      <td>6,329</td>\n",
       "      <td></td>\n",
       "      <td></td>\n",
       "      <td></td>\n",
       "    </tr>\n",
       "    <tr>\n",
       "      <th>3</th>\n",
       "      <td>\\nSouth America\\n</td>\n",
       "      <td>68,627,123</td>\n",
       "      <td></td>\n",
       "      <td>1,354,933</td>\n",
       "      <td></td>\n",
       "      <td>66,454,701</td>\n",
       "      <td>+300</td>\n",
       "      <td>817,489</td>\n",
       "      <td>10,125</td>\n",
       "      <td></td>\n",
       "      <td></td>\n",
       "      <td></td>\n",
       "    </tr>\n",
       "    <tr>\n",
       "      <th>4</th>\n",
       "      <td>\\nOceania\\n</td>\n",
       "      <td>14,226,011</td>\n",
       "      <td></td>\n",
       "      <td>27,464</td>\n",
       "      <td></td>\n",
       "      <td>14,060,980</td>\n",
       "      <td></td>\n",
       "      <td>137,567</td>\n",
       "      <td>89</td>\n",
       "      <td></td>\n",
       "      <td></td>\n",
       "      <td></td>\n",
       "    </tr>\n",
       "  </tbody>\n",
       "</table>\n",
       "</div>"
      ],
      "text/plain": [
       "             Country   TotalCases NewCases TotalDeaths NewDeaths  \\\n",
       "0  \\nNorth America\\n  126,353,091     +494   1,630,731        +4   \n",
       "1           \\nAsia\\n  217,021,377  +19,993   1,545,581        +8   \n",
       "2         \\nEurope\\n  249,093,309            2,056,057             \n",
       "3  \\nSouth America\\n   68,627,123            1,354,933             \n",
       "4        \\nOceania\\n   14,226,011               27,464             \n",
       "\n",
       "  TotalRecovered ActiveCases CriticalCases Totcase1M Totdeath1M TotalTests  \\\n",
       "0    122,171,699      +1,005     2,550,661     6,310                         \n",
       "1    200,767,110      +5,003    14,708,686    15,651                         \n",
       "2    245,004,734     +11,320     2,032,518     6,329                         \n",
       "3     66,454,701        +300       817,489    10,125                         \n",
       "4     14,060,980                   137,567        89                         \n",
       "\n",
       "  Tottest1M  \n",
       "0            \n",
       "1            \n",
       "2            \n",
       "3            \n",
       "4            "
      ]
     },
     "execution_count": 10,
     "metadata": {},
     "output_type": "execute_result"
    }
   ],
   "source": [
    "df.head()"
   ]
  },
  {
   "cell_type": "code",
   "execution_count": 11,
   "id": "6cade93b",
   "metadata": {},
   "outputs": [
    {
     "name": "stdout",
     "output_type": "stream",
     "text": [
      "<class 'pandas.core.frame.DataFrame'>\n",
      "RangeIndex: 239 entries, 0 to 238\n",
      "Data columns (total 12 columns):\n",
      " #   Column          Non-Null Count  Dtype \n",
      "---  ------          --------------  ----- \n",
      " 0   Country         239 non-null    object\n",
      " 1   TotalCases      239 non-null    object\n",
      " 2   NewCases        239 non-null    object\n",
      " 3   TotalDeaths     239 non-null    object\n",
      " 4   NewDeaths       239 non-null    object\n",
      " 5   TotalRecovered  239 non-null    object\n",
      " 6   ActiveCases     239 non-null    object\n",
      " 7   CriticalCases   239 non-null    object\n",
      " 8   Totcase1M       239 non-null    object\n",
      " 9   Totdeath1M      239 non-null    object\n",
      " 10  TotalTests      239 non-null    object\n",
      " 11  Tottest1M       239 non-null    object\n",
      "dtypes: object(12)\n",
      "memory usage: 22.5+ KB\n"
     ]
    }
   ],
   "source": [
    "df.info()"
   ]
  },
  {
   "cell_type": "code",
   "execution_count": 12,
   "id": "b47befe2",
   "metadata": {},
   "outputs": [
    {
     "data": {
      "text/plain": [
       "(239, 12)"
      ]
     },
     "execution_count": 12,
     "metadata": {},
     "output_type": "execute_result"
    }
   ],
   "source": [
    "df.shape"
   ]
  },
  {
   "cell_type": "markdown",
   "id": "f34efbc5",
   "metadata": {},
   "source": [
    "# Save it in the form of CSV file"
   ]
  },
  {
   "cell_type": "code",
   "execution_count": 13,
   "id": "21757b37",
   "metadata": {},
   "outputs": [],
   "source": [
    "df.to_csv('Covid19.csv')"
   ]
  }
 ],
 "metadata": {
  "kernelspec": {
   "display_name": "Python 3 (ipykernel)",
   "language": "python",
   "name": "python3"
  },
  "language_info": {
   "codemirror_mode": {
    "name": "ipython",
    "version": 3
   },
   "file_extension": ".py",
   "mimetype": "text/x-python",
   "name": "python",
   "nbconvert_exporter": "python",
   "pygments_lexer": "ipython3",
   "version": "3.9.13"
  }
 },
 "nbformat": 4,
 "nbformat_minor": 5
}
